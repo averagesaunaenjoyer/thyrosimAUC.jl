{
 "cells": [
  {
   "cell_type": "code",
   "execution_count": 3,
   "metadata": {},
   "outputs": [
    {
     "name": "stderr",
     "output_type": "stream",
     "text": [
      "┌ Info: Recompiling stale cache file /home/mauricio/.julia/compiled/v1.1/DifferentialEquations/UQdwS.ji for DifferentialEquations [0c46a032-eb83-5123-abaf-570d42b7fbaa]\n",
      "└ @ Base loading.jl:1184\n",
      "┌ Warning: Package ArrayInterface does not have LinearAlgebra in its dependencies:\n",
      "│ - If you have ArrayInterface checked out for development and have\n",
      "│   added LinearAlgebra as a dependency but haven't updated your primary\n",
      "│   environment's manifest file, try `Pkg.resolve()`.\n",
      "│ - Otherwise you may need to report an issue with ArrayInterface\n",
      "└ Loading LinearAlgebra into ArrayInterface from project dependency, future warnings for ArrayInterface are suppressed.\n",
      "┌ Warning: The call to compilecache failed to create a usable precompiled cache file for RecursiveArrayTools [731186ca-8d62-57ce-b412-fbd966d074cd]\n",
      "│   exception = Required dependency ArrayInterface [4fba245c-0d91-5ea0-9b3e-6abc04ee57a9] failed to load from a cache file.\n",
      "└ @ Base loading.jl:969\n",
      "┌ Warning: Package ArrayInterface does not have LinearAlgebra in its dependencies:\n",
      "│ - If you have ArrayInterface checked out for development and have\n",
      "│   added LinearAlgebra as a dependency but haven't updated your primary\n",
      "│   environment's manifest file, try `Pkg.resolve()`.\n",
      "│ - Otherwise you may need to report an issue with ArrayInterface\n",
      "└ Loading LinearAlgebra into ArrayInterface from project dependency, future warnings for ArrayInterface are suppressed.\n",
      "ERROR: LoadError: ArgumentError: Package DiffEqBase does not have IterativeSolvers in its dependencies:\n",
      "- If you have DiffEqBase checked out for development and have\n",
      "  added IterativeSolvers as a dependency but haven't updated your primary\n",
      "  environment's manifest file, try `Pkg.resolve()`.\n",
      "- Otherwise you may need to report an issue with DiffEqBase\n",
      "Stacktrace:\n",
      " [1] require(::Module, ::Symbol) at ./loading.jl:836\n",
      " [2] include at ./boot.jl:326 [inlined]\n",
      " [3] include_relative(::Module, ::String) at ./loading.jl:1038\n",
      " [4] include(::Module, ::String) at ./sysimg.jl:29\n",
      " [5] top-level scope at none:2\n",
      " [6] eval at ./boot.jl:328 [inlined]\n",
      " [7] eval(::Expr) at ./client.jl:404\n",
      " [8] top-level scope at ./none:3\n",
      "in expression starting at /home/mauricio/.julia/packages/DiffEqBase/LCorD/src/DiffEqBase.jl:3\n",
      "ERROR: LoadError: Failed to precompile DiffEqBase [2b5f629d-d688-5b77-993f-72d75c75574e] to /home/mauricio/.julia/compiled/v1.1/DiffEqBase/oaevG.ji.\n",
      "Stacktrace:\n",
      " [1] error(::String) at ./error.jl:33\n",
      " [2] compilecache(::Base.PkgId, ::String) at ./loading.jl:1197\n",
      " [3] _require(::Base.PkgId) at ./loading.jl:960\n",
      " [4] require(::Base.PkgId) at ./loading.jl:858\n",
      " [5] require(::Module, ::Symbol) at ./loading.jl:853\n",
      " [6] include at ./boot.jl:326 [inlined]\n",
      " [7] include_relative(::Module, ::String) at ./loading.jl:1038\n",
      " [8] include(::Module, ::String) at ./sysimg.jl:29\n",
      " [9] top-level scope at none:2\n",
      " [10] eval at ./boot.jl:328 [inlined]\n",
      " [11] eval(::Expr) at ./client.jl:404\n",
      " [12] top-level scope at ./none:3\n",
      "in expression starting at /home/mauricio/.julia/packages/DifferentialEquations/4jSpr/src/DifferentialEquations.jl:5\n"
     ]
    },
    {
     "ename": "ErrorException",
     "evalue": "Failed to precompile DifferentialEquations [0c46a032-eb83-5123-abaf-570d42b7fbaa] to /home/mauricio/.julia/compiled/v1.1/DifferentialEquations/UQdwS.ji.",
     "output_type": "error",
     "traceback": [
      "Failed to precompile DifferentialEquations [0c46a032-eb83-5123-abaf-570d42b7fbaa] to /home/mauricio/.julia/compiled/v1.1/DifferentialEquations/UQdwS.ji.",
      "",
      "Stacktrace:",
      " [1] error(::String) at ./error.jl:33",
      " [2] compilecache(::Base.PkgId, ::String) at ./loading.jl:1197",
      " [3] _require(::Base.PkgId) at ./loading.jl:960",
      " [4] require(::Base.PkgId) at ./loading.jl:858",
      " [5] require(::Module, ::Symbol) at ./loading.jl:853",
      " [6] top-level scope at In[3]:2"
     ]
    }
   ],
   "source": [
    "push!(LOAD_PATH, \"../src\")\n",
    "using DifferentialEquations\n",
    "using Thyrosim\n",
    "using Plots\n",
    "\n",
    "tspan = (0.0, 720.0)\n",
    "prob = ODEProblem(thyrosim, ic, tspan, p)\n",
    "sol = solve(prob)\n",
    "plot(sol)"
   ]
  },
  {
   "cell_type": "code",
   "execution_count": 4,
   "metadata": {},
   "outputs": [
    {
     "ename": "UndefVarError",
     "evalue": "UndefVarError: ODEProblem not defined",
     "output_type": "error",
     "traceback": [
      "UndefVarError: ODEProblem not defined",
      "",
      "Stacktrace:",
      " [1] top-level scope at In[4]:2"
     ]
    }
   ],
   "source": [
    "tspan = (0.0, 720.0)\n",
    "prob = ODEProblem(thyrosim, ic, tspan, p)\n",
    "sol = solve(prob)\n",
    "plot(sol)"
   ]
  },
  {
   "cell_type": "code",
   "execution_count": null,
   "metadata": {},
   "outputs": [],
   "source": [
    "p1 = plot(sol.t, 777.0 * sol[1, :] / p[47], ylim=(0, 100))\n",
    "p2 = plot(sol.t, 651.0 * sol[4, :] / p[47], ylim=(0, 4))\n",
    "p3 = plot(sol.t, 5.6 * sol[7, :] / p[48], ylim=(0, 10))\n",
    "plot(p1, p2, p3, layout=(3, 1))\n"
   ]
  },
  {
   "cell_type": "code",
   "execution_count": null,
   "metadata": {},
   "outputs": [],
   "source": [
    "p"
   ]
  },
  {
   "cell_type": "code",
   "execution_count": null,
   "metadata": {},
   "outputs": [],
   "source": [
    "prob = ODEProblem(thyrosim, ic, tspan, p)\n",
    "sol = solve(prob)"
   ]
  }
 ],
 "metadata": {
  "kernelspec": {
   "display_name": "Julia 1.1.1",
   "language": "julia",
   "name": "julia-1.1"
  },
  "language_info": {
   "file_extension": ".jl",
   "mimetype": "application/julia",
   "name": "julia",
   "version": "1.1.1"
  }
 },
 "nbformat": 4,
 "nbformat_minor": 2
}
