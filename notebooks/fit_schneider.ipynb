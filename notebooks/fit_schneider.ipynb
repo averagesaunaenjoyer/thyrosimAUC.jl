{
 "cells": [
  {
   "cell_type": "markdown",
   "metadata": {},
   "source": [
    "# Basic working examples of parameter estimation"
   ]
  },
  {
   "cell_type": "code",
   "execution_count": 1,
   "metadata": {
    "collapsed": false
   },
   "outputs": [
    {
     "name": "stderr",
     "output_type": "stream",
     "text": [
      "┌ Info: Recompiling stale cache file /Users/biona001/.julia/compiled/v1.2/DifferentialEquations/UQdwS.ji for DifferentialEquations [0c46a032-eb83-5123-abaf-570d42b7fbaa]\n",
      "└ @ Base loading.jl:1240\n",
      "┌ Info: Recompiling stale cache file /Users/biona001/.julia/compiled/v1.2/Thyrosim/Oo7R6.ji for Thyrosim [7ef34fca-2b35-11e9-1aeb-a527bedb189e]\n",
      "└ @ Base loading.jl:1240\n",
      "┌ Info: Recompiling stale cache file /Users/biona001/.julia/compiled/v1.2/Plots/ld3vC.ji for Plots [91a5bcdd-55d7-5caf-9e0b-520d859cae80]\n",
      "└ @ Base loading.jl:1240\n",
      "┌ Info: Recompiling stale cache file /Users/biona001/.julia/compiled/v1.2/Optim/R5uoh.ji for Optim [429524aa-4258-5aef-a3af-852621145aeb]\n",
      "└ @ Base loading.jl:1240\n",
      "┌ Info: Recompiling stale cache file /Users/biona001/.julia/compiled/v1.2/DiffEqParamEstim/nWq0E.ji for DiffEqParamEstim [1130ab10-4a5a-5621-a13d-e4788d82bd4c]\n",
      "└ @ Base loading.jl:1240\n",
      "┌ Warning: `lgamma(x::Real)` is deprecated, use `(logabsgamma(x))[1]` instead.\n",
      "│   caller = lstirling_asym(::BigFloat) at misc.jl:56\n",
      "└ @ StatsFuns ~/.julia/packages/StatsFuns/2QE7p/src/misc.jl:56\n"
     ]
    }
   ],
   "source": [
    "using DifferentialEquations\n",
    "using Thyrosim\n",
    "using Plots\n",
    "using DiffEqCallbacks\n",
    "using Optim\n",
    "using DiffEqParamEstim"
   ]
  },
  {
   "cell_type": "markdown",
   "metadata": {},
   "source": [
    "## Import data and initial conditions"
   ]
  },
  {
   "cell_type": "code",
   "execution_count": 2,
   "metadata": {
    "collapsed": false
   },
   "outputs": [],
   "source": [
    "train, test, toy = schneider_data();"
   ]
  },
  {
   "cell_type": "code",
   "execution_count": 57,
   "metadata": {
    "collapsed": false
   },
   "outputs": [
    {
     "data": {
      "text/plain": [
       "400-element BitArray{1}:\n",
       " 0\n",
       " 1\n",
       " 1\n",
       " 1\n",
       " 0\n",
       " 1\n",
       " 1\n",
       " 1\n",
       " 0\n",
       " 1\n",
       " 1\n",
       " 1\n",
       " 1\n",
       " ⋮\n",
       " 1\n",
       " 0\n",
       " 1\n",
       " 1\n",
       " 0\n",
       " 0\n",
       " 1\n",
       " 1\n",
       " 1\n",
       " 1\n",
       " 1\n",
       " 1"
      ]
     },
     "execution_count": 57,
     "metadata": {},
     "output_type": "execute_result"
    }
   ],
   "source": [
    "# useful parameters\n",
    "train[!, Symbol(\"Days.to.euthyroid\")]\n",
    "train[!, Symbol(\"Wt.kg\")]\n",
    "train[!, Symbol(\"Ht.m\")]\n",
    "train[!, Symbol(\"TSH.preop\")]\n",
    "train[!, Symbol(\"Dose.changes\")]\n",
    "train[!, Symbol(\"LT4.euthyroid.dose\")]\n",
    "train[!, Symbol(\"LT4.initial.dose\")]'\n",
    "train[!, Symbol(\"Sex\")]"
   ]
  },
  {
   "cell_type": "markdown",
   "metadata": {},
   "source": [
    "## Solve 1 schneider patient"
   ]
  },
  {
   "cell_type": "code",
   "execution_count": 4,
   "metadata": {
    "collapsed": false
   },
   "outputs": [
    {
     "data": {
      "text/plain": [
       "400-element Array{Tuple{Float64,Float64},1}:\n",
       " (0.0, 1320.0) \n",
       " (0.0, 2376.0) \n",
       " (0.0, 5208.0) \n",
       " (0.0, 4296.0) \n",
       " (0.0, 3864.0) \n",
       " (0.0, 3744.0) \n",
       " (0.0, 4560.0) \n",
       " (0.0, 1032.0) \n",
       " (0.0, 2424.0) \n",
       " (0.0, 3720.0) \n",
       " (0.0, 2136.0) \n",
       " (0.0, 1656.0) \n",
       " (0.0, 5376.0) \n",
       " ⋮             \n",
       " (0.0, 6744.0) \n",
       " (0.0, 2208.0) \n",
       " (0.0, 3792.0) \n",
       " (0.0, 1896.0) \n",
       " (0.0, 336.0)  \n",
       " (0.0, 1416.0) \n",
       " (0.0, 2208.0) \n",
       " (0.0, 1080.0) \n",
       " (0.0, 10224.0)\n",
       " (0.0, 5904.0) \n",
       " (0.0, 2424.0) \n",
       " (0.0, 4008.0) "
      ]
     },
     "execution_count": 4,
     "metadata": {},
     "output_type": "execute_result"
    }
   ],
   "source": [
    "# each row is a patient's tspan\n",
    "total_days = train[!, Symbol(\"Days.to.euthyroid\")]\n",
    "tspans = [(0.0, 24.0total_days[i]) for i in 1:length(total_days)]"
   ]
  },
  {
   "cell_type": "code",
   "execution_count": 67,
   "metadata": {
    "collapsed": false,
    "scrolled": false
   },
   "outputs": [
    {
     "data": {
      "text/plain": [
       "retcode: Success\n",
       "Interpolation: Automatic order switching interpolation\n",
       "t: 4559-element Array{Float64,1}:\n",
       "    0.0                \n",
       "    0.00589049502729523\n",
       "    0.04331680083793424\n",
       "    0.10775925933305852\n",
       "    0.18828674241224558\n",
       "    0.29923986313348233\n",
       "    0.4437005253206401 \n",
       "    0.644852613888753  \n",
       "    0.9211243196572607 \n",
       "    1.2520854980785918 \n",
       "    1.5654962222870112 \n",
       "    1.833032589387102  \n",
       "    2.0650280564109496 \n",
       "    ⋮                  \n",
       " 1316.1781678297414    \n",
       " 1316.5961926455232    \n",
       " 1317.0001173677451    \n",
       " 1317.3909561429982    \n",
       " 1317.7697570125836    \n",
       " 1318.137574658376     \n",
       " 1318.4954539673524    \n",
       " 1318.8444217148797    \n",
       " 1319.1854843936421    \n",
       " 1319.5196308744833    \n",
       " 1319.847839162069     \n",
       " 1320.0                \n",
       "u: 4559-element Array{Float64,1}:\n",
       " 1.7882958476437     \n",
       " 1.7873661315008171  \n",
       " 1.7814425498755786  \n",
       " 1.7711794243750691  \n",
       " 1.7582510574481578  \n",
       " 1.7402748479390808  \n",
       " 1.7166452356747597  \n",
       " 1.6834692924951937  \n",
       " 1.6377629070233788  \n",
       " 1.5834986432550218  \n",
       " 1.5333428402691804  \n",
       " 1.4919828687502512  \n",
       " 1.457505239251411   \n",
       " ⋮                   \n",
       " 0.02055621952779116 \n",
       " 0.020113145894484808\n",
       " 0.01963197596998391 \n",
       " 0.019121918606462986\n",
       " 0.018590972806834787\n",
       " 0.018046015111023165\n",
       " 0.01749291415028446 \n",
       " 0.016936654654571122\n",
       " 0.016381460161877137\n",
       " 0.015830908451670324\n",
       " 0.015288036877652206\n",
       " 0.015037259119647655"
      ]
     },
     "execution_count": 67,
     "metadata": {},
     "output_type": "execute_result"
    }
   ],
   "source": [
    "# initialize ODE problem\n",
    "ic, p = initialize([0.0; 0.88; 0.0; 0.88]) # schneider patients are completely thyroidectomized\n",
    "\n",
    "# designate p55 as oral T4 dose (400 mcg), p56 as oral T3 dose\n",
    "p[55] = 400.0 / 777.0\n",
    "p[56] = 0.0\n",
    "\n",
    "# call back function for adding dose every 24 hour\n",
    "function add_dose!(integrator)\n",
    "    integrator.u[10] += integrator.p[55]\n",
    "    integrator.u[12] += integrator.p[56]\n",
    "end\n",
    "cbk = PeriodicCallback(add_dose!, 24.0);\n",
    "\n",
    "# define ODE problem\n",
    "train_patient_1 = ODEProblem(thyrosim,ic,tspans[1],p,callback=cbk)\n",
    "    \n",
    "# solve ODE problem\n",
    "sol = solve(train_patient_1, save_idxs=7)"
   ]
  },
  {
   "cell_type": "markdown",
   "metadata": {},
   "source": [
    "# Fit all Schneider patients\n",
    "\n",
    "We simulate patients according to the number of days the patient achieved euthyrodism using the given dose, then calculate if their TSH levels are within [0.45, 4.5] mIU/ml.\n",
    "\n",
    "#### Parameter definition:\n",
    "- `p[55]:` Daily T4 oral dose\n",
    "- `p[56]:` Daily T3 oral dose\n",
    "\n",
    "#### Error definition:\n",
    "+ When given an euthyroid T4 dose, if any TSH values $\\notin [0.5, 4.5]$ in the last 24h of simulation, then error + 1 (i.e. **patients receiving correct dose should have normal TSH**)\n",
    "+ When given the initial T4 dose, if the initial T4 dose is not equal to euthyroid T4 dose, and all TSH values $\\in [0.5, 4.5]$, then error + 1 (i.e. **patients not receiving correct dose should NOT have normal TSH**)"
   ]
  },
  {
   "cell_type": "code",
   "execution_count": 73,
   "metadata": {
    "collapsed": false
   },
   "outputs": [
    {
     "data": {
      "text/plain": [
       "compute_schneider_error (generic function with 1 method)"
      ]
     },
     "execution_count": 73,
     "metadata": {},
     "output_type": "execute_result"
    }
   ],
   "source": [
    "function compute_schneider_error(train_data)\n",
    "   # simulate all patients, tally and add up those who fall beyond the range\n",
    "    dial = [0.0; 0.88; 0.0; 0.88]\n",
    "    scale_Vp = true\n",
    "    tot_loss = 0.0\n",
    "    \n",
    "    # define function for adding dose\n",
    "    function add_dose!(integrator)\n",
    "        integrator.u[10] += integrator.p[55]\n",
    "        integrator.u[12] += integrator.p[56]\n",
    "    end\n",
    "    cbk = PeriodicCallback(add_dose!, 24.0);\n",
    "\n",
    "    #loop over all patients\n",
    "    for i in 1:size(train_data, 1)\n",
    "        height = train_data[i, Symbol(\"Ht.m\")]\n",
    "        weight = train_data[i, Symbol(\"Wt.kg\")]\n",
    "        sex    = Bool(train_data[i, Symbol(\"Sex\")])\n",
    "        ic, p  = initialize(dial, scale_Vp, height, weight, sex)\n",
    "        ic[7]  = train_data[i, Symbol(\"TSH.preop\")] #set initial TSH value\n",
    "        tspan  = (0.0, 24.0train[i, Symbol(\"Days.to.euthyroid\")]) #(0, total hours)\n",
    "        \n",
    "        # calculate error for euthyroid dose\n",
    "        euthyroid_dose = train_data[i, Symbol(\"LT4.euthyroid.dose\")] / 777.0\n",
    "        p[55] = euthyroid_dose\n",
    "        prob  = ODEProblem(thyrosim,ic,tspan,p,callback=cbk)\n",
    "        sol   = solve(prob, save_idxs=7)\n",
    "        tot_loss += compute_euthyroid_dose_error(sol)\n",
    "        \n",
    "        # when initial dose != euthyroid dose, calculate error\n",
    "        initial_dose = train[i, Symbol(\"LT4.initial.dose\")] / 777.0\n",
    "        if initial_dose != euthyroid_dose\n",
    "            p[55] = initial_dose\n",
    "            prob  = ODEProblem(thyrosim,ic,tspan,p,callback=cbk)\n",
    "            sol   = solve(prob, save_idxs=7)\n",
    "            tot_loss += compute_initial_dose_error(sol)\n",
    "        end\n",
    "    end\n",
    "    \n",
    "    return tot_loss\n",
    "end"
   ]
  },
  {
   "cell_type": "markdown",
   "metadata": {},
   "source": [
    "### Helper functions for calculating error\n",
    "\n",
    "These functions assume the solution object contains only TSH values, which can be achieved by using `save_idxs=7` when one call `solve`. "
   ]
  },
  {
   "cell_type": "code",
   "execution_count": 76,
   "metadata": {
    "collapsed": false
   },
   "outputs": [
    {
     "data": {
      "text/plain": [
       "compute_initial_dose_error (generic function with 1 method)"
      ]
     },
     "execution_count": 76,
     "metadata": {},
     "output_type": "execute_result"
    }
   ],
   "source": [
    "function compute_euthyroid_dose_error(sol)\n",
    "    tot_loss = 0.0\n",
    "    if any((s.retcode != :Success for s in sol))\n",
    "        tot_loss = Inf\n",
    "    else\n",
    "        total_hours  = sol.t[end]\n",
    "        TSH_last_day = sol.u[sol.t .>= total_hours - 24]\n",
    "        if !all(0.5 .≤ TSH_last_day .≤ 4.5)\n",
    "            tot_loss += 1.0\n",
    "        end\n",
    "    end\n",
    "    return tot_loss\n",
    "end\n",
    "\n",
    "function compute_initial_dose_error(sol)\n",
    "    tot_loss = 0.0\n",
    "    if any((s.retcode != :Success for s in sol))\n",
    "        tot_loss = Inf\n",
    "    else\n",
    "        total_hours  = sol.t[end]\n",
    "        TSH_last_day = sol.u[sol.t .>= total_hours - 24]\n",
    "        if all(0.5 .≤ TSH_last_day .≤ 4.5)\n",
    "            tot_loss += 1.0\n",
    "        end\n",
    "    end\n",
    "    return tot_loss\n",
    "end                     "
   ]
  },
  {
   "cell_type": "markdown",
   "metadata": {},
   "source": [
    "### Error function timing"
   ]
  },
  {
   "cell_type": "code",
   "execution_count": 89,
   "metadata": {
    "collapsed": false
   },
   "outputs": [
    {
     "name": "stdout",
     "output_type": "stream",
     "text": [
      "  2.617005 seconds (3.79 M allocations: 221.275 MiB, 1.72% gc time)\n"
     ]
    },
    {
     "data": {
      "text/plain": [
       "16.0"
      ]
     },
     "execution_count": 89,
     "metadata": {},
     "output_type": "execute_result"
    }
   ],
   "source": [
    "@time compute_schneider_error(toy)"
   ]
  },
  {
   "cell_type": "code",
   "execution_count": 90,
   "metadata": {
    "collapsed": false
   },
   "outputs": [
    {
     "name": "stdout",
     "output_type": "stream",
     "text": [
      " 78.113564 seconds (95.49 M allocations: 5.503 GiB, 1.49% gc time)\n"
     ]
    },
    {
     "data": {
      "text/plain": [
       "374.0"
      ]
     },
     "execution_count": 90,
     "metadata": {},
     "output_type": "execute_result"
    }
   ],
   "source": [
    "@time compute_schneider_error(train)"
   ]
  },
  {
   "cell_type": "code",
   "execution_count": null,
   "metadata": {
    "collapsed": true
   },
   "outputs": [],
   "source": []
  },
  {
   "cell_type": "code",
   "execution_count": null,
   "metadata": {
    "collapsed": true
   },
   "outputs": [],
   "source": []
  }
 ],
 "metadata": {
  "@webio": {
   "lastCommId": null,
   "lastKernelId": null
  },
  "kernelspec": {
   "display_name": "Julia 1.2.0",
   "language": "julia",
   "name": "julia-1.2"
  },
  "language_info": {
   "file_extension": ".jl",
   "mimetype": "application/julia",
   "name": "julia",
   "version": "1.2.0"
  }
 },
 "nbformat": 4,
 "nbformat_minor": 2
}
