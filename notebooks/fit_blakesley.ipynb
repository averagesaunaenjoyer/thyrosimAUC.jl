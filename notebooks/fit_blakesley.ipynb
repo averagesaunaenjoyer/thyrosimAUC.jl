{
 "cells": [
  {
   "cell_type": "markdown",
   "metadata": {},
   "source": [
    "# Basic working examples of parameter estimation"
   ]
  },
  {
   "cell_type": "code",
   "execution_count": 1,
   "metadata": {
    "collapsed": false
   },
   "outputs": [
    {
     "name": "stderr",
     "output_type": "stream",
     "text": [
      "┌ Info: Recompiling stale cache file /Users/biona001/.julia/compiled/v1.0/Thyrosim/Oo7R6.ji for Thyrosim [7ef34fca-2b35-11e9-1aeb-a527bedb189e]\n",
      "└ @ Base loading.jl:1190\n"
     ]
    }
   ],
   "source": [
    "using Revise\n",
    "using DifferentialEquations\n",
    "using Thyrosim\n",
    "using Plots\n",
    "using DiffEqCallbacks\n",
    "using Optim"
   ]
  },
  {
   "cell_type": "markdown",
   "metadata": {},
   "source": [
    "## Import data and initial conditions"
   ]
  },
  {
   "cell_type": "code",
   "execution_count": 2,
   "metadata": {
    "collapsed": false
   },
   "outputs": [
    {
     "data": {
      "text/plain": [
       "(0.0, 120.0)"
      ]
     },
     "execution_count": 2,
     "metadata": {},
     "output_type": "execute_result"
    }
   ],
   "source": [
    "my_time, my400_data, my450_data, my600_data = blakesley_data()\n",
    "ic, p = initialize() # blakesley patients are not hypothyroid \n",
    "tspan = (my_time[1], my_time[end])"
   ]
  },
  {
   "cell_type": "markdown",
   "metadata": {},
   "source": [
    "## Define ODE and related functions"
   ]
  },
  {
   "cell_type": "code",
   "execution_count": 3,
   "metadata": {
    "collapsed": false
   },
   "outputs": [
    {
     "data": {
      "text/plain": [
       "(::DiffEqObjective{getfield(DiffEqParamEstim, Symbol(\"##43#48\")){Nothing,Bool,Int64,typeof(DiffEqParamEstim.STANDARD_PROB_GENERATOR),Base.Iterators.Pairs{Symbol,Any,Tuple{Symbol,Symbol,Symbol},NamedTuple{(:maxiters, :verbose, :save_idxs),Tuple{Int64,Bool,Array{Int64,1}}}},ODEProblem{Array{Float64,1},Tuple{Float64,Float64},true,Array{Float64,1},ODEFunction{true,typeof(original_thyrosim),LinearAlgebra.UniformScaling{Bool},Nothing,Nothing,Nothing,Nothing,Nothing,Nothing,Nothing,Nothing,Nothing},ContinuousCallback{typeof(condition),typeof(affect!),typeof(affect!),typeof(DiffEqBase.INITIALIZE_DEFAULT),Float64,Int64,Nothing},DiffEqBase.StandardODEProblem},Tsit5,L2Loss{Array{Float64,1},Array{Float64,2},Nothing,Nothing,Nothing},Nothing},getfield(DiffEqParamEstim, Symbol(\"##47#53\"))}) (generic function with 2 methods)"
      ]
     },
     "execution_count": 3,
     "metadata": {},
     "output_type": "execute_result"
    }
   ],
   "source": [
    "function condition(u, t, integrator)\n",
    "    return t - 24.0\n",
    "end\n",
    "\n",
    "# 400 mcg of oral T4\n",
    "function affect!(integrator)\n",
    "    T4_dose = 400.0 / 777.0  \n",
    "    T3_dose = 0.0\n",
    "    \n",
    "    ## CHECK: Should probably be adding to pill compartments 10, 12 but do this same way as Simon's code so\n",
    "    ## we can compare.\n",
    "    integrator.u[11] += T4_dose\n",
    "    integrator.u[13] += T3_dose\n",
    "end\n",
    "\n",
    "# gives dose at hour 24\n",
    "cbk = ContinuousCallback(condition, affect!);\n",
    "\n",
    "# ODE problem\n",
    "prob = ODEProblem(original_thyrosim,ic,tspan,p,callback=cbk)\n",
    "\n",
    "# only calculate TSH error\n",
    "cost_function = build_loss_objective(prob,Tsit5(),L2Loss(my_time, my400_data[:, 3]),\n",
    "                                     maxiters=10000,verbose=false, save_idxs=[7])"
   ]
  },
  {
   "cell_type": "markdown",
   "metadata": {},
   "source": [
    "## Write optimization routines \n",
    "\n",
    "Read about closures [here](http://julianlsolvers.github.io/Optim.jl/latest/#user/tipsandtricks/#_top). "
   ]
  },
  {
   "cell_type": "code",
   "execution_count": 6,
   "metadata": {
    "collapsed": false
   },
   "outputs": [
    {
     "data": {
      "text/plain": [
       "2-element Array{Float64,1}:\n",
       " 1341.1067501158589\n",
       "  620.8663822607836"
      ]
     },
     "execution_count": 6,
     "metadata": {},
     "output_type": "execute_result"
    }
   ],
   "source": [
    "fitting_index = [30, 31]\n",
    "dial = [1.0; 0.88; 1.0; 0.88]\n",
    "function closure(p, fitting_index, dial)\n",
    "    reset_p!(p, fitting_index, dial)\n",
    "    return cost_function(p)\n",
    "end\n",
    "\n",
    "# optimize p on fitting index using the default algorithm BFGS()\n",
    "result = optimize(p -> closure(p, fitting_index, dial), p, BFGS())\n",
    "\n",
    "# inspect result\n",
    "result.minimizer[fitting_index]"
   ]
  },
  {
   "cell_type": "markdown",
   "metadata": {},
   "source": [
    "# Now optimize over 3 sets of T4 oral dose"
   ]
  },
  {
   "cell_type": "code",
   "execution_count": 7,
   "metadata": {
    "collapsed": false
   },
   "outputs": [
    {
     "data": {
      "text/plain": [
       "(::DiffEqObjective{getfield(DiffEqParamEstim, Symbol(\"##43#48\")){Nothing,Bool,Int64,typeof(DiffEqParamEstim.STANDARD_PROB_GENERATOR),Base.Iterators.Pairs{Symbol,Any,Tuple{Symbol,Symbol,Symbol},NamedTuple{(:maxiters, :verbose, :save_idxs),Tuple{Int64,Bool,Array{Int64,1}}}},ODEProblem{Array{Float64,1},Tuple{Float64,Float64},true,Array{Float64,1},ODEFunction{true,typeof(original_thyrosim),LinearAlgebra.UniformScaling{Bool},Nothing,Nothing,Nothing,Nothing,Nothing,Nothing,Nothing,Nothing,Nothing},ContinuousCallback{typeof(condition),typeof(affect!),typeof(affect!),typeof(DiffEqBase.INITIALIZE_DEFAULT),Float64,Int64,Nothing},DiffEqBase.StandardODEProblem},Tsit5,L2Loss{Array{Float64,1},Array{Float64,2},Nothing,Nothing,Nothing},Nothing},getfield(DiffEqParamEstim, Symbol(\"##47#53\"))}) (generic function with 2 methods)"
      ]
     },
     "execution_count": 7,
     "metadata": {},
     "output_type": "execute_result"
    }
   ],
   "source": [
    "# calculate TSH error for 400, 450, and 600 datasets\n",
    "cost_function_400 = build_loss_objective(prob,Tsit5(),L2Loss(my_time, my400_data[:, 3]),\n",
    "                                     maxiters=10000,verbose=false, save_idxs=[7])\n",
    "\n",
    "cost_function_450 = build_loss_objective(prob,Tsit5(),L2Loss(my_time, my450_data[:, 3]),\n",
    "                                     maxiters=10000,verbose=false, save_idxs=[7])\n",
    "\n",
    "cost_function_600 = build_loss_objective(prob,Tsit5(),L2Loss(my_time, my600_data[:, 3]),\n",
    "                                     maxiters=10000,verbose=false, save_idxs=[7])"
   ]
  },
  {
   "cell_type": "code",
   "execution_count": 8,
   "metadata": {
    "collapsed": false
   },
   "outputs": [
    {
     "data": {
      "text/plain": [
       "closure (generic function with 1 method)"
      ]
     },
     "execution_count": 8,
     "metadata": {},
     "output_type": "execute_result"
    }
   ],
   "source": [
    "fitting_index = [30, 31]\n",
    "dial = [1.0; 0.88; 1.0; 0.88]\n",
    "function closure(p, fitting_index, dial)\n",
    "    reset_p!(p, fitting_index, dial)\n",
    "    return cost_function_400(p) + cost_function_450(p) + cost_function_600(p)\n",
    "end"
   ]
  },
  {
   "cell_type": "code",
   "execution_count": 9,
   "metadata": {
    "collapsed": false
   },
   "outputs": [
    {
     "data": {
      "text/plain": [
       " * Status: success\n",
       "\n",
       " * Candidate solution\n",
       "    Minimizer: [1.74e-03, 8.00e+00, 8.68e-01,  ...]\n",
       "    Minimum:   1.180280e+01\n",
       "\n",
       " * Found with\n",
       "    Algorithm:     BFGS\n",
       "    Initial Point: [1.74e-03, 8.00e+00, 8.68e-01,  ...]\n",
       "\n",
       " * Convergence measures\n",
       "    |x - x'|               = 3.85e-04 ≰ 0.0e+00\n",
       "    |x - x'|/|x'|          = 1.89e-07 ≰ 0.0e+00\n",
       "    |f(x) - f(x')|         = 5.35e-12 ≰ 0.0e+00\n",
       "    |f(x) - f(x')|/|f(x')| = 4.53e-13 ≰ 0.0e+00\n",
       "    |g(x)|                 = 6.89e-12 ≤ 1.0e-08\n",
       "\n",
       " * Work counters\n",
       "    Iterations:    6\n",
       "    f(x) calls:    29\n",
       "    ∇f(x) calls:   29\n"
      ]
     },
     "execution_count": 9,
     "metadata": {},
     "output_type": "execute_result"
    }
   ],
   "source": [
    "# optimize p on fitting index using the default algorithm BFGS()\n",
    "result = optimize(p -> closure(p, fitting_index, dial), p, BFGS())"
   ]
  },
  {
   "cell_type": "code",
   "execution_count": 10,
   "metadata": {
    "collapsed": false
   },
   "outputs": [
    {
     "data": {
      "text/plain": [
       "2-element Array{Float64,1}:\n",
       " 1362.672086108941 \n",
       "  618.2220379136451"
      ]
     },
     "execution_count": 10,
     "metadata": {},
     "output_type": "execute_result"
    }
   ],
   "source": [
    "# inspect result\n",
    "result.minimizer[fitting_index]"
   ]
  },
  {
   "cell_type": "code",
   "execution_count": null,
   "metadata": {
    "collapsed": true
   },
   "outputs": [],
   "source": []
  }
 ],
 "metadata": {
  "kernelspec": {
   "display_name": "Julia 1.0.3",
   "language": "julia",
   "name": "julia-1.0"
  },
  "language_info": {
   "file_extension": ".jl",
   "mimetype": "application/julia",
   "name": "julia",
   "version": "1.0.3"
  }
 },
 "nbformat": 4,
 "nbformat_minor": 2
}
