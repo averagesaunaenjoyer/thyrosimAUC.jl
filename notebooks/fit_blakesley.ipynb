{
 "cells": [
  {
   "cell_type": "markdown",
   "metadata": {},
   "source": [
    "# Basic working example of parameter estimation"
   ]
  },
  {
   "cell_type": "code",
   "execution_count": 1,
   "metadata": {
    "collapsed": true
   },
   "outputs": [],
   "source": [
    "using Revise\n",
    "using DifferentialEquations\n",
    "using Thyrosim\n",
    "using Plots\n",
    "using DiffEqCallbacks\n",
    "using Optim"
   ]
  },
  {
   "cell_type": "markdown",
   "metadata": {},
   "source": [
    "## Import data and initial conditions"
   ]
  },
  {
   "cell_type": "code",
   "execution_count": 5,
   "metadata": {
    "collapsed": false
   },
   "outputs": [
    {
     "data": {
      "text/plain": [
       "(0.0, 120.0)"
      ]
     },
     "execution_count": 5,
     "metadata": {},
     "output_type": "execute_result"
    }
   ],
   "source": [
    "my_time, my400_data, my450_data, my600_data = blakesley_data()\n",
    "ic, p = initialize() # blakesley patients are not hypothyroid \n",
    "tspan = (my_time[1], my_time[end])"
   ]
  },
  {
   "cell_type": "markdown",
   "metadata": {},
   "source": [
    "## Define functions for giving dose at day 1"
   ]
  },
  {
   "cell_type": "code",
   "execution_count": 3,
   "metadata": {
    "collapsed": true
   },
   "outputs": [],
   "source": [
    "function condition(u, t, integrator)\n",
    "    return t - 24.0\n",
    "end\n",
    "\n",
    "# 400 mcg of oral T4\n",
    "function affect!(integrator)\n",
    "    T4_dose = 400.0 / 777.0  \n",
    "    T3_dose = 0.0\n",
    "    \n",
    "    ## CHECK: Should probably be adding to pill compartments 10, 12 but do this same way as Simon's code so\n",
    "    ## we can compare.\n",
    "    integrator.u[11] += T4_dose\n",
    "    integrator.u[13] += T3_dose\n",
    "end\n",
    "\n",
    "# gives dose at hour 24\n",
    "cbk = ContinuousCallback(condition, affect!);"
   ]
  },
  {
   "cell_type": "markdown",
   "metadata": {},
   "source": [
    "## Define problem and error function"
   ]
  },
  {
   "cell_type": "code",
   "execution_count": 6,
   "metadata": {
    "collapsed": false,
    "scrolled": true
   },
   "outputs": [
    {
     "data": {
      "text/plain": [
       "(::DiffEqObjective{getfield(DiffEqParamEstim, Symbol(\"##43#48\")){Nothing,Bool,Int64,typeof(DiffEqParamEstim.STANDARD_PROB_GENERATOR),Base.Iterators.Pairs{Symbol,Any,Tuple{Symbol,Symbol,Symbol},NamedTuple{(:maxiters, :verbose, :save_idxs),Tuple{Int64,Bool,Array{Int64,1}}}},ODEProblem{Array{Float64,1},Tuple{Float64,Float64},true,Array{Float64,1},ODEFunction{true,typeof(original_thyrosim),LinearAlgebra.UniformScaling{Bool},Nothing,Nothing,Nothing,Nothing,Nothing,Nothing,Nothing,Nothing,Nothing},ContinuousCallback{typeof(condition),typeof(affect!),typeof(affect!),typeof(DiffEqBase.INITIALIZE_DEFAULT),Float64,Int64,Nothing},DiffEqBase.StandardODEProblem},Tsit5,L2Loss{Array{Float64,1},Array{Float64,2},Nothing,Nothing,Nothing},Nothing},getfield(DiffEqParamEstim, Symbol(\"##47#53\"))}) (generic function with 2 methods)"
      ]
     },
     "execution_count": 6,
     "metadata": {},
     "output_type": "execute_result"
    }
   ],
   "source": [
    "# ODE problem\n",
    "prob = ODEProblem(original_thyrosim,ic,tspan,p,callback=cbk)\n",
    "\n",
    "# only calculate TSH error\n",
    "cost_function = build_loss_objective(prob,Tsit5(),L2Loss(my_time, my400_data[:, 3]),\n",
    "                                     maxiters=10000,verbose=false, save_idxs=[7])"
   ]
  },
  {
   "cell_type": "markdown",
   "metadata": {},
   "source": [
    "## Write a closure to optimize only the parameters I want\n",
    "\n",
    "Read about closures [here](http://julianlsolvers.github.io/Optim.jl/latest/#user/tipsandtricks/#_top). "
   ]
  },
  {
   "cell_type": "code",
   "execution_count": 7,
   "metadata": {
    "collapsed": false
   },
   "outputs": [
    {
     "data": {
      "text/plain": [
       "loss (generic function with 1 method)"
      ]
     },
     "execution_count": 7,
     "metadata": {},
     "output_type": "execute_result"
    }
   ],
   "source": [
    "fitting_index = [30, 31]\n",
    "function loss(p)\n",
    "    dial = [1.0; 0.88; 1.0; 0.88]\n",
    "\n",
    "    p[1] = 0.00174155 * dial[1]     #S4\n",
    "    p[2] = 8              #tau\n",
    "    p[3] = 0.868          #k12\n",
    "    p[4] = 0.108          #k13\n",
    "    p[5] = 584            #k31free\n",
    "    p[6] = 1503           #k21free\n",
    "    p[7] = 0.000289       #A\n",
    "    p[8] = 0.000214       #B\n",
    "    p[9] = 0.000128       #C\n",
    "    p[10] = -8.83*10^-6    #D\n",
    "    p[11] = 0.88           #k4absorb; originally 0.881\n",
    "    p[12] = 0.0189         #k02\n",
    "    p[13] = 0.00998996     #VmaxD1fast\n",
    "    p[14] = 2.85           #KmD1fast\n",
    "    p[15] = 6.63*10^-4     #VmaxD1slow\n",
    "    p[16] = 95             #KmD1slow\n",
    "    p[17] = 0.00074619     #VmaxD2slow\n",
    "    p[18] = 0.075          #KmD2slow\n",
    "    p[19] = 3.3572*10^-4 * dial[3]   #S3\n",
    "    p[20] = 5.37           #k45\n",
    "    p[21] = 0.0689         #k46\n",
    "    p[22] = 127            #k64free\n",
    "    p[23] = 2043           #k54free\n",
    "    p[24] = 0.00395        #a\n",
    "    p[25] = 0.00185        #b\n",
    "    p[26] = 0.00061        #c\n",
    "    p[27] = -0.000505      #d\n",
    "    p[28] = 0.88           #k3absorb; originally 0.882\n",
    "    p[29] = 0.207          #k05\n",
    "    # p[30] = 1166           #Bzero\n",
    "    # p[31] = 581            #Azero\n",
    "    p[32] = 2.37           #Amax\n",
    "    p[33] = -3.71          #phi\n",
    "    p[34] = 0.53           #kdegTSH-HYPO\n",
    "    p[35] = 0.037          #VmaxTSH\n",
    "    p[36] = 23             #K50TSH\n",
    "    p[37] = 0.118          #k3\n",
    "    p[38] = 0.29           #T4P-EU\n",
    "    p[39] = 0.006          #T3P-EU\n",
    "    p[40] = 0.037          #KdegT3B\n",
    "    p[41] = 0.0034         #KLAG-HYPO\n",
    "    p[42] = 5              #KLAG\n",
    "    p[43] = 1.3            #k4dissolve\n",
    "    p[44] = 0.12 * dial[2] #k4excrete; originally 0.119 (change with dial 2)\n",
    "    p[45] = 1.78           #k3dissolve\n",
    "    p[46] = 0.12 * dial[4] #k3excrete; originally 0.118 (change with dial 4)\n",
    "    p[47] = 3.2            #Vp\n",
    "    p[48] = 5.2            #VTSH\n",
    "\n",
    "    return cost_function(p)\n",
    "end"
   ]
  },
  {
   "cell_type": "markdown",
   "metadata": {},
   "source": [
    "# Optimize and inspect result"
   ]
  },
  {
   "cell_type": "code",
   "execution_count": 8,
   "metadata": {
    "collapsed": false
   },
   "outputs": [
    {
     "data": {
      "text/plain": [
       " * Status: success\n",
       "\n",
       " * Candidate solution\n",
       "    Minimizer: [1.74e-03, 8.00e+00, 8.68e-01,  ...]\n",
       "    Minimum:   3.568682e+00\n",
       "\n",
       " * Found with\n",
       "    Algorithm:     BFGS\n",
       "    Initial Point: [1.74e-03, 8.00e+00, 8.68e-01,  ...]\n",
       "\n",
       " * Convergence measures\n",
       "    |x - x'|               = 8.78e-04 ≰ 0.0e+00\n",
       "    |x - x'|/|x'|          = 4.30e-07 ≰ 0.0e+00\n",
       "    |f(x) - f(x')|         = 1.64e-11 ≰ 0.0e+00\n",
       "    |f(x) - f(x')|/|f(x')| = 4.59e-12 ≰ 0.0e+00\n",
       "    |g(x)|                 = 4.10e-12 ≤ 1.0e-08\n",
       "\n",
       " * Work counters\n",
       "    Iterations:    6\n",
       "    f(x) calls:    30\n",
       "    ∇f(x) calls:   30\n"
      ]
     },
     "execution_count": 8,
     "metadata": {},
     "output_type": "execute_result"
    }
   ],
   "source": [
    "result = optimize(loss, p, BFGS())"
   ]
  },
  {
   "cell_type": "code",
   "execution_count": 10,
   "metadata": {
    "collapsed": false
   },
   "outputs": [
    {
     "data": {
      "text/plain": [
       "2-element Array{Float64,1}:\n",
       " 1341.1067501158589\n",
       "  620.8663822607836"
      ]
     },
     "execution_count": 10,
     "metadata": {},
     "output_type": "execute_result"
    }
   ],
   "source": [
    "result.minimizer[fitting_index]"
   ]
  },
  {
   "cell_type": "code",
   "execution_count": null,
   "metadata": {
    "collapsed": true
   },
   "outputs": [],
   "source": []
  }
 ],
 "metadata": {
  "kernelspec": {
   "display_name": "Julia 1.0.3",
   "language": "julia",
   "name": "julia-1.0"
  },
  "language_info": {
   "file_extension": ".jl",
   "mimetype": "application/julia",
   "name": "julia",
   "version": "1.0.3"
  }
 },
 "nbformat": 4,
 "nbformat_minor": 2
}
